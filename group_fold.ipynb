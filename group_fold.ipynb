{
 "cells": [
  {
   "cell_type": "code",
   "execution_count": 17,
   "id": "5dce7953",
   "metadata": {},
   "outputs": [],
   "source": [
    "import numpy as np\n",
    "import pandas as pd\n",
    "from sklearn.model_selection import GroupKFold"
   ]
  },
  {
   "cell_type": "code",
   "execution_count": 33,
   "id": "e136e266",
   "metadata": {},
   "outputs": [
    {
     "data": {
      "text/plain": [
       "5"
      ]
     },
     "execution_count": 33,
     "metadata": {},
     "output_type": "execute_result"
    }
   ],
   "source": [
    "N = 50\n",
    "y = np.random.randn(N, 1)\n",
    "X = np.random.randn(N, 6)\n",
    "group = np.round(np.random.uniform(0,24, N)).reshape(-1,1)\n",
    "k = 5\n",
    "nest_k = 4\n"
   ]
  },
  {
   "cell_type": "code",
   "execution_count": 58,
   "id": "571d0cd2",
   "metadata": {},
   "outputs": [],
   "source": [
    "\n",
    "\n",
    "def RandomGroupKFold_split(groups, n, seed=0):  # noqa: N802\n",
    "    \"\"\"\n",
    "    Random analogous of sklearn.model_selection.GroupKFold.split.\n",
    "\n",
    "    :return: list of (train, test) indices\n",
    "    \"\"\"\n",
    "    groups = pd.Series(groups)\n",
    "    ix = np.arange(len(groups))\n",
    "    unique = np.unique(groups)\n",
    "    np.random.RandomState(seed).shuffle(unique)\n",
    "    result = []\n",
    "    for split in np.array_split(unique, n):\n",
    "        mask = groups.isin(split)\n",
    "        train, test = ix[~mask], ix[mask]\n",
    "        result.append((train, test))\n",
    "\n",
    "    return result\n"
   ]
  },
  {
   "cell_type": "code",
   "execution_count": 72,
   "id": "3c400b2d",
   "metadata": {},
   "outputs": [
    {
     "name": "stdout",
     "output_type": "stream",
     "text": [
      "seed ======== 1\n",
      "[[11.]\n",
      " [17.]\n",
      " [16.]\n",
      " [17.]\n",
      " [17.]\n",
      " [17.]\n",
      " [17.]\n",
      " [11.]\n",
      " [11.]\n",
      " [16.]\n",
      " [11.]\n",
      " [11.]\n",
      " [ 7.]\n",
      " [ 7.]\n",
      " [16.]]\n",
      "seed ======== 2\n",
      "[[17.]\n",
      " [19.]\n",
      " [17.]\n",
      " [17.]\n",
      " [17.]\n",
      " [17.]\n",
      " [19.]\n",
      " [10.]\n",
      " [21.]]\n",
      "seed ======== 3\n",
      "[[13.]\n",
      " [13.]\n",
      " [13.]\n",
      " [ 6.]\n",
      " [15.]\n",
      " [ 6.]\n",
      " [ 6.]\n",
      " [ 6.]\n",
      " [20.]]\n",
      "seed ======== 4\n",
      "[[19.]\n",
      " [12.]\n",
      " [ 8.]\n",
      " [ 3.]\n",
      " [19.]\n",
      " [12.]\n",
      " [ 3.]]\n",
      "seed ======== 5\n",
      "[[19.]\n",
      " [19.]\n",
      " [18.]\n",
      " [ 5.]\n",
      " [20.]]\n",
      "seed ======== 6\n",
      "[[13.]\n",
      " [13.]\n",
      " [14.]\n",
      " [13.]\n",
      " [14.]\n",
      " [ 6.]\n",
      " [ 6.]\n",
      " [14.]\n",
      " [14.]\n",
      " [ 5.]\n",
      " [ 6.]\n",
      " [ 6.]]\n"
     ]
    }
   ],
   "source": [
    "k = 5\n",
    "nest_k = 4\n",
    "runs = 6\n",
    "seed = 0 \n",
    "for i in range(runs):\n",
    "    seed += 1\n",
    "    indices = np.arange(len(X))\n",
    "    incides = np.random.choice(indices, len(X))\n",
    "    \n",
    "    X = X[indices]\n",
    "    y = y[indices]\n",
    "    group = group[indices]\n",
    "    \n",
    "    \n",
    "    group_kfold = RandomGroupKFold_split(groups=group[:,0], n=k, seed=seed)\n",
    "\n",
    "    for train_index, test_index in group_kfold:\n",
    "\n",
    "        X_train, X_test = X[train_index], X[test_index]\n",
    "        y_train, y_test = y[train_index], y[test_index]\n",
    "        g_train, g_test = group[train_index], group[test_index]\n",
    "\n",
    "        nested_group_kfold = RandomGroupKFold_split(groups=g_train[:,0], n=nest_k, seed=seed)\n",
    "\n",
    "        for nest_train_index, nest_test_index in nested_group_kfold:\n",
    "\n",
    "            X_train_nest, X_test_nest = X_train[nest_train_index], X_train[nest_test_index]\n",
    "            y_train_nest, y_test_nest = y_train[nest_train_index], y_train[nest_test_index]\n",
    "            g_train_nest, g_test_nest = g_train[nest_train_index], g_train[nest_test_index]\n",
    "    print('seed ========', seed)\n",
    "    print(g_test_nest)\n"
   ]
  },
  {
   "cell_type": "code",
   "execution_count": null,
   "id": "487a90f2",
   "metadata": {},
   "outputs": [],
   "source": []
  },
  {
   "cell_type": "code",
   "execution_count": null,
   "id": "8fa72078",
   "metadata": {},
   "outputs": [],
   "source": []
  },
  {
   "cell_type": "code",
   "execution_count": null,
   "id": "b0da100a",
   "metadata": {},
   "outputs": [],
   "source": []
  }
 ],
 "metadata": {
  "kernelspec": {
   "display_name": "Python 3",
   "language": "python",
   "name": "python3"
  },
  "language_info": {
   "codemirror_mode": {
    "name": "ipython",
    "version": 3
   },
   "file_extension": ".py",
   "mimetype": "text/x-python",
   "name": "python",
   "nbconvert_exporter": "python",
   "pygments_lexer": "ipython3",
   "version": "3.7.0"
  }
 },
 "nbformat": 4,
 "nbformat_minor": 5
}
